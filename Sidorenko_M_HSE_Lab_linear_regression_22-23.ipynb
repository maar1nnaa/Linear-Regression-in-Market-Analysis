{
 "cells": [
  {
   "cell_type": "markdown",
   "metadata": {
    "id": "Ko9XxVaeqOQF"
   },
   "source": [
    "# Лабораторная работа 2\n",
    "\n",
    "## Линейная регрессия"
   ]
  },
  {
   "cell_type": "markdown",
   "metadata": {
    "id": "ajNyg1s8qOQJ"
   },
   "source": [
    "### Метод наименьших квадратов: постановка задачи\n",
    "\n",
    "Рассмотрим систему уравнений $Xa = y$, в которой $a$ — столбец неизвестных. Её можно переписать в векторном виде\n",
    "$$x_1 a_1 + x_2 a_2 + \\ldots + x_k a_k = y,$$\n",
    "где $x_1,\\ldots,x_k$ — столбцы матрицы $X$. Таким образом, решить исходную систему означает найти линейную комбинацию векторов $x_1,\\ldots,x_k$, равную правой части. Но что делать, если такой линейной комбинации не существует? Геометрически это означает, что вектор $y$ не лежит в подпространстве $U = \\langle x_1,\\ldots, x_k\\rangle$. В этом случае мы можем найти *псевдорешение*: вектор коэффициентов $\\hat{a}$, для которого линейная комбинация $x_1 \\hat{a}_1 + x_2 \\hat{a}_2 + \\ldots + x_k \\hat{a}_k$ хоть и не равна в точности $y$, но является наилучшим приближением — то есть ближайшей к $y$ точкой $\\hat{y}$ подпространства $U$ (иными словами, ортогональной проекцией $y$ на это подпростанство). Итак, цель наших исканий можно сформулировать двумя эквивалентными способами:\n",
    "\n",
    "1. Найти вектор $\\hat{a}$, для которого длина разности $|X\\hat{a} - y|$ минимальна (отсюда название \"метод наименьших квадратов\");\n",
    "2. Найти ортогональную проекцию $\\hat{y}$ вектора $y$ на подпространство $U$ и представить её в виде $X\\hat{a}$.\n",
    "\n",
    "Далее мы будем предполагать, что векторы $x_1,\\ldots,x_k$ линейно независимы (если нет, то сначала имеет смысл выделить максимальную линейно независимую подсистему).\n",
    "На лекциях было показано, что в этом случае проекция вектора $y$ на подпространство $U = \\langle x_1,\\ldots, x_k\\rangle$ записывается в виде\n",
    "$$\\hat{y} = X\\left(X^TX\\right)^{-1}X^Ty$$\n",
    "и, соответственно, искомый вектор $\\hat{a}$ равен\n",
    "$$\\hat{a} = \\left(X^TX\\right)^{-1}X^Ty.$$"
   ]
  },
  {
   "cell_type": "markdown",
   "metadata": {
    "id": "ofclUL48qOQK"
   },
   "source": [
    "### Задача линейной регрессии\n",
    "\n",
    "Начнём с примера. Допустим, вы хотите найти зависимость среднего балла S студента ФКН от его роста H, веса W, длины волос L и N — количества часов, которые он ежедневно посвящает учёбе. Представьте, что мы измерили все эти параметры для $n$ студентов и получили наборы значений: $S_1,\\ldots, S_n$, $H_1,\\ldots, H_n$ и так далее.\n",
    "\n",
    "Тут можно подбирать много разных умных моделей, но начать имеет смысл с самой простой, линейной:\n",
    "$$S = a_1H + a_2W + a_3L + a_4N + a_5.$$\n",
    "Конечно, строгой линейной зависимости нет (иначе можно было бы радостно упразднить экзамены), но мы можем попробовать подобрать коэффициенты $a_1, a_2, a_3, a_4, a_5$, для которых отклонение правой части от наблюдаемых было бы наименьшим:\n",
    "$$\\sum_{i=1}^n\\left(S_i - ( a_1H_i + a_2W_i + a_3L_i + a_4N_i + a_5)\\right)^2 \\longrightarrow \\min$$\n",
    "И сразу видно, что мы получили задачу на метод наименьших квадратов! А именно, у нас\n",
    "$$X =\n",
    "\\begin{pmatrix}\n",
    "H_1 & W_1 & L_1 & N_1 & 1\\\\\n",
    "H_2 & W_2 & L_2 & N_2 & 1\\\\\n",
    "\\dots & \\dots & \\dots & \\dots & \\dots \\\\\n",
    "H_n & W_n & L_n & N_n & 1\n",
    "\\end{pmatrix},\\qquad y=\n",
    "\\begin{pmatrix}\n",
    "S_1\\\\ S_2\\\\ \\vdots \\\\ S_n\n",
    "\\end{pmatrix}$$\n",
    "\n",
    "Решая эту задачу с помощью уже известных формул, получаем оценки коэффициентов $\\hat{a}_i$ ($i = 1\\ldots,5$)."
   ]
  },
  {
   "cell_type": "markdown",
   "metadata": {
    "id": "XGHDJWxTqOQL"
   },
   "source": [
    "Теперь проговорим общую постановку задачи линейной регрессии. У нас есть $k$ переменных $x_1,\\ldots,x_k$ (\"регрессоров\"), через которые мы хотим выразить \"объясняемую переменную\" $y$:\n",
    "$$y = a_1x_1 + a_2x_2 + \\ldots + a_kx_k.$$\n",
    "Значения всех переменных мы измерили $n$ раз (у $n$ различных объектов,  в $n$ различных моментов времени — это зависит от задачи). Подставим эти данные в предыдущее равенство:\n",
    "$$\\begin{pmatrix}\n",
    "y_1\\\\ y_2 \\\\ \\vdots \\\\ y_n\n",
    "\\end{pmatrix} = \n",
    "a_1\\begin{pmatrix}\n",
    "x_{11} \\\\ x_{21} \\\\ \\vdots \\\\ x_{n1} \\end{pmatrix} + a_2\\begin{pmatrix}\n",
    "x_{12} \\\\ x_{22} \\\\ \\vdots \\\\ x_{n2} \\end{pmatrix} + \\ldots + a_k\\begin{pmatrix}\n",
    "x_{1k} \\\\ x_{2k} \\\\ \\vdots \\\\ x_{nk} \\end{pmatrix}$$\n",
    "(здесь $x_{ij}$ — это значение $j$-го признака на $i$-м измерении). Это удобно переписать в матричном виде:\n",
    "$$\\begin{pmatrix}\n",
    "x_{11} & x_{12} & \\ldots & x_{1k}\\\\\n",
    "x_{21} & x_{22} & \\ldots & x_{2k}\\\\\n",
    "\\dots & \\dots & \\dots & \\dots\\\\\n",
    "x_{n1} & x_{n2} & \\ldots & x_{nk}\n",
    "\\end{pmatrix} \\cdot\n",
    "\\begin{pmatrix}\n",
    "a_1 \\\\ a_2 \\\\ \\vdots \\\\ a_k\n",
    "\\end{pmatrix} = \n",
    "\\begin{pmatrix}\n",
    "y_1 \\\\ y_2 \\\\ \\vdots \\\\ y_n\n",
    "\\end{pmatrix}$$\n",
    "или коротко $Xa = y$. Поскольку на практике эта система уравнений зачастую не имеет решения (ибо зависимости в жизни редко бывают действительно линейными), методом наименьших квадратов ищется псевдорешение."
   ]
  },
  {
   "cell_type": "markdown",
   "metadata": {
    "id": "6M_D0USiqOQL"
   },
   "source": [
    "### Оценка качества. Обучение и тест \n",
    "\n",
    "После того как вы построили регрессию и получили какую-то зависимость объясняемой переменной от регрессоров, настаёт время оценить качество регрессии. Есть много разных функционалов качества; мы пока будем говорить только о самом простом и очевидном из них: о среднеквадратичной ошибке (mean square error). Она равна\n",
    "$$\\frac1{n}|X\\hat{a} - y|^2 = \\frac1{n}\\sum_{i=1}^n\\left(\\hat{a}_1x_{i1} + \\hat{a}_2x_{i2} + \\ldots + \\hat{a}_kx_{ik} - y_i\\right)^2.$$\n",
    "\n",
    "В целом хочется искать модели с наименьшей mean square error на имеющихся данных. Однако слишком фанатичная гонка за минимизацией ошибки может привести к печальным последствиям, в чём вам предстоит убедиться в ходе выполнения этой лабораторной.\n",
    "\n",
    "Чтобы не попадать в эту ловушку, данные обычно делят на обучающие (по которым строят модель и оценивают коэффициенты) и тестовые. Лучшей стоит счесть ту модель, для которой значение функционала качества будет меньше."
   ]
  },
  {
   "cell_type": "markdown",
   "metadata": {
    "id": "C_HMy6kNqOQM"
   },
   "source": [
    "### Правила оформления графиков\n",
    "При работе с данными часто неудобно делать какие-то выводы, если смотреть на таблицу и числа в частности, поэтому важно уметь визуализировать данные. \n",
    "\n",
    "У matplotlib, конечно же, есть [документация](https://matplotlib.org/users/index.html) с большим количеством [примеров](https://matplotlib.org/examples/), но для начала достаточно знать про несколько основных типов графиков:\n",
    "- plot — обычный поточечный график, которым можно изображать кривые или отдельные точки;\n",
    "- hist — гистограмма, показывающая распределение некоторой величины;\n",
    "- scatter — график, показывающий взаимосвязь двух величин;\n",
    "- bar — столбцовый график, показывающий взаимосвязь количественной величины от категориальной.\n",
    "\n",
    "Ещё одна библиотека для визуализации: [seaborn](https://jakevdp.github.io/PythonDataScienceHandbook/04.14-visualization-with-seaborn.html). Это надстройка над matplotlib, иногда удобнее и красивее делать визуализации через неё. \n",
    "\n",
    "При выполнении этой лабораторной вы столкнётесь с необходимостью рисовать большое количество графиков. Не забывайте про базовые принципы построения приличных графиков:\n",
    "- оси должны быть подписаны, причём не слишком мелко;\n",
    "- у графика должно быть название;\n",
    "- если изображено несколько графиков, то необходима поясняющая легенда;\n",
    "- для точек из разных выборок необходимо использовать разные цвета;\n",
    "- все линии на графиках должны быть чётко видны (нет похожих цветов или цветов, сливающихся с фоном);\n",
    "- если отображена величина, имеющая очевидный диапазон значений (например, проценты могут быть от 0 до 100), то желательно масштабировать ось на весь диапазон значений (исключением является случай, когда вам необходимо показать малое отличие, которое незаметно в таких масштабах).\n",
    "\n",
    "Помните, что проверяющий имеет право снизить оценку за неопрятные графики."
   ]
  },
  {
   "cell_type": "markdown",
   "metadata": {
    "id": "3Jf2gQapqOQM"
   },
   "source": [
    "### Формат сдачи\n",
    "Задания сдаются через систему Anytask. Инвайт можно найти на странице курса. Присылать необходимо ноутбук с выполненным заданием. Сам ноутбук называйте в формате homework-practice-02-linregr-Username.ipynb, где Username — ваша фамилия."
   ]
  },
  {
   "cell_type": "markdown",
   "metadata": {
    "id": "oKY8bcLTqOQN"
   },
   "source": [
    "### Задание 1. Метод наименьших квадратов (3 балла)"
   ]
  },
  {
   "cell_type": "markdown",
   "metadata": {
    "id": "hRlWe7KKqOQN"
   },
   "source": [
    "Скачайте файлы ``train.txt`` и ``test.txt``. В первом из них находится обучающая выборка, а во втором — тестовая. Каждый из файлов содержит два столбца чисел, разделённых пробелами: в первом — $n$ точек (значения аргумента $x$), во втором — значения некоторой функции $y = f(x)$ в этих точках, искажённые случайным шумом. Ваша задача — по обучающей выборке подобрать функцию $y = g(x)$, пристойно приближающую неизвестную вам зависимость."
   ]
  },
  {
   "cell_type": "markdown",
   "metadata": {
    "id": "Lv_ustjBqOQO"
   },
   "source": [
    "Загрузим обучающие и тестовые данные (не забудьте ввести правильный путь!)."
   ]
  },
  {
   "cell_type": "code",
   "execution_count": 254,
   "metadata": {
    "id": "zsbRjiVQqOQO"
   },
   "outputs": [],
   "source": [
    "import numpy as np\n",
    "import scipy.linalg as sla\n",
    "import matplotlib.pyplot as plt\n",
    "import sklearn as sk\n",
    "from sklearn import *\n",
    "data_train = np.loadtxt('train.txt', delimiter=',')\n",
    "data_test = np.loadtxt('test.txt', delimiter=',')"
   ]
  },
  {
   "cell_type": "markdown",
   "metadata": {
    "id": "8nMMXMn9qOQP"
   },
   "source": [
    "**0. [0 баллов]** Разделим значения $x$ и $y$:"
   ]
  },
  {
   "cell_type": "code",
   "execution_count": 93,
   "metadata": {
    "id": "j8mHS807qOQQ"
   },
   "outputs": [],
   "source": [
    "X_train = data_train[:,0]\n",
    "y_train = data_train[:,1]\n",
    "\n",
    "# Сделайте то же для тестовой выборки\n",
    "#╰( ͡° ͜ʖ ͡° )つ──☆*:・ﾟ\n",
    "X_test = data_test[:,0]\n",
    "y_test = data_test[:,1]"
   ]
  },
  {
   "cell_type": "markdown",
   "metadata": {
    "id": "2pGVEni9qOQQ"
   },
   "source": [
    "**1. [0.1 балла]** Найдите с помощью метода наименьших квадратов линейную функцию ($y = kx + b$), наилучшим образом приближающую неизвестную зависимость. Полезные функции: ``numpy.ones(n)`` для создания массива из единиц длины $n$ и ``numpy.concatenate((А, В), axis=1)`` для слияния двух матриц по столбцам (пара ``А`` и ``В`` превращается в матрицу ``[A B]``). Напечатайте этот многочлен в виде $kx+b$."
   ]
  },
  {
   "cell_type": "code",
   "execution_count": 530,
   "metadata": {
    "id": "uPlCOqE7qOQQ"
   },
   "outputs": [
    {
     "name": "stdout",
     "output_type": "stream",
     "text": [
      "2.2791344980519455x + 4.433230905064933\n"
     ]
    }
   ],
   "source": [
    "#╰( ͡° ͜ʖ ͡° )つ──☆*:・ﾟ\n",
    "X = np.concatenate((X_train.reshape(len(X_train), 1), np.ones(len(X_train)).reshape(len(X_train), 1)), axis = 1)\n",
    "y = y_train.reshape(len(y_train), 1)\n",
    "a = sla.inv(X.T @ X) @ X.T @ y\n",
    "print(str(a[0][0]) + 'x + ' + str(a[1][0]))"
   ]
  },
  {
   "cell_type": "markdown",
   "metadata": {
    "id": "WF-ivuwpqOQR"
   },
   "source": [
    "**2. [0.15 балла]** Нарисуйте на плоскости точки $(x_i, y_i)$ из обеих выборок и полученную линейную функцию."
   ]
  },
  {
   "cell_type": "code",
   "execution_count": 531,
   "metadata": {
    "id": "cW6-86trqOQR"
   },
   "outputs": [
    {
     "data": {
      "image/png": "[encoded data removed]",
      "text/plain": [
       "<Figure size 432x288 with 1 Axes>"
      ]
     },
     "metadata": {
      "needs_background": "light"
     },
     "output_type": "display_data"
    }
   ],
   "source": [
    "#╰( ͡° ͜ʖ ͡° )つ──☆*:・ﾟ\n",
    "plt.scatter(X_train, y_train, color = 'blue', label = 'train')\n",
    "plt.scatter(X_test, y_test, color = 'green', label = 'test')\n",
    "plt.plot(np.linspace(-0.5, 1.5), a[0][0] * np.linspace(-0.5, 1.5) + a[1][0], label = 'linear function')\n",
    "plt.xlabel('x')\n",
    "plt.ylabel('y')\n",
    "plt.legend()\n",
    "plt.show()"
   ]
  },
  {
   "cell_type": "markdown",
   "metadata": {
    "id": "tHX9676bqOQR"
   },
   "source": [
    "**3. [0.15 балла]** Глядя на данные, подумайте, многочленом какой степени можно было бы лучше всего приблизить эту функцию с точки зрения минимизации среднеквадратичной ошибки на обучающей выборке. Найдите этот многочлен и напечатайте его в виде $a_0 + a_1 x + \\ldots a_k x^k$."
   ]
  },
  {
   "cell_type": "markdown",
   "metadata": {},
   "source": [
    "**Для нахождения искомого многочлена найдем матрицу Вандермонда для значений из данной нам выборки**"
   ]
  },
  {
   "cell_type": "code",
   "execution_count": 532,
   "metadata": {
    "id": "TqJQhc-UqOQR"
   },
   "outputs": [
    {
     "name": "stdout",
     "output_type": "stream",
     "text": [
      "4.976676974983491+7.9913695494438866x^1+-177.60126180511173x^2+-1446.491329959308x^3+15870.216159981857x^4+33695.21858116356x^5+-574535.1965378688x^6+984573.0707944068x^7+5269715.165941687x^8+-25761582.890871637x^9+41391800.8605615x^10+-12814524.678531703x^11+-35071519.02605981x^12+19904644.67541462x^13+28414539.387031242x^14+5089718.374656826x^15+-76537936.02326821x^16+59360816.43626322x^17+6077311.838941969x^18+-22715633.028624915x^19+6934620.171103757x^20\n"
     ]
    }
   ],
   "source": [
    "#╰( ͡° ͜ʖ ͡° )つ──☆*:・ﾟ\n",
    "V = np.vander(X_train, increasing=True)\n",
    "coefs = sla.inv(V.T @ V) @ V.T @ y\n",
    "s = str(coefs[0][0])\n",
    "for i in range(1, len(coefs)):\n",
    "    s += '+' + str(coefs[i][0]) + 'x^' + str(i)\n",
    "print(s)"
   ]
  },
  {
   "cell_type": "markdown",
   "metadata": {
    "id": "o2SM-4sGqOQR"
   },
   "source": [
    "**4. [0.1 балла]** Нарисуйте его график на одном чертеже вместе с точками $(x_i, y_i)$ из обеих выборок."
   ]
  },
  {
   "cell_type": "code",
   "execution_count": 533,
   "metadata": {
    "id": "_AX0GL31qOQR",
    "scrolled": true
   },
   "outputs": [
    {
     "data": {
      "image/png": "[encoded data removed]",
      "text/plain": [
       "<Figure size 432x288 with 1 Axes>"
      ]
     },
     "metadata": {
      "needs_background": "light"
     },
     "output_type": "display_data"
    }
   ],
   "source": [
    "#╰( ͡° ͜ʖ ͡° )つ──☆*:・ﾟ\n",
    "plt.scatter(X_train, y_train, color = 'blue', label = 'train')\n",
    "plt.scatter(X_test, y_test, color = 'green', label = 'test')\n",
    "plt.axis([-0.5, 1.5, 3, 7])\n",
    "plt.plot(np.linspace(min(X_train), max(X_train)), np.vander(np.linspace(min(X_train), max(X_train)), 21, increasing = True) @ coefs, label = 'polynomial function')\n",
    "plt.xlabel('x')\n",
    "plt.ylabel('y')\n",
    "plt.legend()\n",
    "plt.show()"
   ]
  },
  {
   "cell_type": "markdown",
   "metadata": {
    "id": "KdHazeiGqOQS"
   },
   "source": [
    "**5. [0.25 балла]** Для $k = 1,2,3,\\ldots,10$ найдите многочлен $\\hat{f}_k$ степени $k$, наилучшим образом приближающий неизвестную зависимость. Напечатайте найденные многочлены в виде $a_0 + a_1 x + \\ldots a_k x^k$."
   ]
  },
  {
   "cell_type": "code",
   "execution_count": 534,
   "metadata": {
    "id": "w_y0Xn4AqOQS"
   },
   "outputs": [
    {
     "name": "stdout",
     "output_type": "stream",
     "text": [
      "4.43 + 2.28x^1 \n",
      "4.47 + 1.16x^1 + 1.40x^2 \n",
      "4.46 + 1.07x^1 + 1.86x^2 + -0.38x^3 \n",
      "4.34 + 1.17x^1 + 6.79x^2 + -13.05x^3 + 7.92x^4 \n",
      "4.43 + -0.13x^1 + 3.27x^2 + 21.37x^3 + -51.13x^4 + 29.52x^5 \n",
      "4.38 + -4.60x^1 + 16.00x^2 + 121.26x^3 + -481.51x^4 + 581.45x^5 + -229.97x^6 \n",
      "4.44 + -4.01x^1 + 7.22x^2 + 119.35x^3 + -314.23x^4 + 122.88x^5 + 238.70x^6 + -167.38x^7 \n",
      "4.66 + -5.18x^1 + -26.70x^2 + 268.86x^3 + 109.90x^4 + -3132.86x^5 + 6760.63x^6 + -5701.71x^7 + 1729.48x^8 \n",
      "4.65 + -4.55x^1 + -24.26x^2 + 219.04x^3 + 176.25x^4 + -2441.96x^5 + 3913.27x^6 + -1216.45x^7 + -1522.10x^8 + 903.21x^9 \n",
      "4.67 + -2.16x^1 + -36.18x^2 + 44.93x^3 + 1201.98x^4 + -1660.80x^5 + -12970.35x^6 + 46687.79x^7 + -63622.44x^8 + 40178.43x^9 + -9818.80x^10 \n"
     ]
    }
   ],
   "source": [
    "#╰( ͡° ͜ʖ ͡° )つ──☆*:・ﾟ\n",
    "for i in range(1, 11):\n",
    "    V_i = np.vander(X_train, i + 1, increasing = True)\n",
    "    coefs_i = sla.inv(V_i.T @ V_i) @ V_i.T @ y\n",
    "    print(f\"{coefs_i[0][0]:.02f}\", end = ' ')\n",
    "    for j in range(1, len(coefs_i)):\n",
    "        print(f'+ {coefs_i[j][0]:.02f}x^{j}', end=' ')\n",
    "    print()"
   ]
  },
  {
   "cell_type": "markdown",
   "metadata": {
    "id": "wwl54m8wqOQS"
   },
   "source": [
    "**6. [1 балл]** Для каждого из них найдите среднеквадратическую ошибку на обучающих данных и на тестовых данных: $\\frac1{n}\\sum_{i=1}^n\\left( \\hat{f}_k(x_i) - y_i \\right)^2$ (в первом случае сумма ведётся по парам $(x_i, y_i)$ из обучающих данных, а во втором — по парам из тестовых данных)."
   ]
  },
  {
   "cell_type": "markdown",
   "metadata": {},
   "source": [
    "**Для обучающих данных**"
   ]
  },
  {
   "cell_type": "code",
   "execution_count": 535,
   "metadata": {
    "id": "1J3cBlupqOQS"
   },
   "outputs": [
    {
     "name": "stdout",
     "output_type": "stream",
     "text": [
      "0.2968966332625196\n",
      "0.26969891587669126\n",
      "0.26949718714796117\n",
      "0.2610665330579275\n",
      "0.24998504648317546\n",
      "0.18829348988370534\n",
      "0.1853962115329427\n",
      "0.1590555657908633\n",
      "0.15847184274774317\n",
      "0.15316611021110998\n"
     ]
    }
   ],
   "source": [
    "#╰( ͡° ͜ʖ ͡° )つ──☆*:・ﾟ\n",
    "for i in range(1, 11):\n",
    "    V_i = np.vander(X_train, i + 1, increasing = True)\n",
    "    coefs_i = sla.inv(V_i.T @ V_i) @ V_i.T @ y\n",
    "    sq_error_train = 0\n",
    "    for x in range(len(X_train)):\n",
    "        sq_error_temp_train = 0\n",
    "        for k in range (len(coefs_i)):\n",
    "            sq_error_temp_train += X_train[x]**k * coefs_i[k][0]\n",
    "        sq_error_temp_train -= y[x][0]\n",
    "        sq_error_temp_train **= 2\n",
    "        sq_error_train += sq_error_temp_train\n",
    "    sq_error_train /= len(X_train)\n",
    "    print(sq_error_train)"
   ]
  },
  {
   "cell_type": "markdown",
   "metadata": {},
   "source": [
    "**Для тестовых данных**"
   ]
  },
  {
   "cell_type": "code",
   "execution_count": 536,
   "metadata": {},
   "outputs": [
    {
     "name": "stdout",
     "output_type": "stream",
     "text": [
      "0.43512020040488736\n",
      "0.3564762887831203\n",
      "0.35534645715184476\n",
      "0.44172701892918764\n",
      "0.5579732021590337\n",
      "2.581692934454878\n",
      "2.515782899913351\n",
      "4.357288752603412\n",
      "4.776347247976\n",
      "14.633310773765805\n"
     ]
    }
   ],
   "source": [
    "y1 = y_test.reshape(len(y_test), 1)\n",
    "for i in range(1, 11):\n",
    "    V_i = np.vander(X_train, i + 1, increasing = True)\n",
    "    coefs_i = sla.inv(V_i.T @ V_i) @ V_i.T @ y\n",
    "    sq_error_test = 0\n",
    "    for x in range(len(X_test)):\n",
    "        sq_error_temp_test = 0\n",
    "        for k in range (len(coefs_i)):\n",
    "            sq_error_temp_test += X_test[x]**k * coefs_i[k][0]\n",
    "        sq_error_temp_test -= y1[x][0]\n",
    "        sq_error_temp_test **= 2\n",
    "        sq_error_test += sq_error_temp_test\n",
    "    sq_error_test /= len(X_test)\n",
    "    print(sq_error_test)"
   ]
  },
  {
   "cell_type": "markdown",
   "metadata": {
    "id": "xpScehMYqOQS"
   },
   "source": [
    "**7. [0.75 балла]** Для $k = 1,2,3,4,5,6$ нарисуйте графики полученных многочленов на одном чертеже вместе с точками $(x_i, y_i)$ из обеих выборок (возможно, график стоит сделать побольше; это делается командой `plt.figure(figsize=(width, height))`)."
   ]
  },
  {
   "cell_type": "code",
   "execution_count": 539,
   "metadata": {
    "id": "hofYSv0oqOQS",
    "scrolled": true
   },
   "outputs": [
    {
     "data": {
      "image/png": "[encoded data removed]",
      "text/plain": [
       "<Figure size 864x576 with 1 Axes>"
      ]
     },
     "metadata": {
      "needs_background": "light"
     },
     "output_type": "display_data"
    }
   ],
   "source": [
    "#╰( ͡° ͜ʖ ͡° )つ──☆*:・ﾟ\n",
    "plt.figure(figsize=(12, 8))\n",
    "plt.axis([-0.5, 1.5, 3, 8])\n",
    "for i in range(1, 7):\n",
    "    V_i_train = np.vander(X_train, i + 1, increasing = True)\n",
    "    coefs_i_train = sla.inv(V_i_train.T @ V_i_train) @ V_i_train.T @ y\n",
    "    plt.plot(np.linspace(min(X_train), max(X_train)), np.vander(np.linspace(min(X_train), max(X_train)), i + 1, increasing = True) @ coefs_i_train, label = 'power ' + str(i))\n",
    "plt.scatter(X_train, y_train, color = 'blue', label = 'train')\n",
    "plt.scatter(X_test, y_test, color = 'green', label = 'test')\n",
    "plt.title('Polynoms for k = 1,...,6')\n",
    "plt.xlabel('x')\n",
    "plt.ylabel('y')\n",
    "plt.legend()\n",
    "plt.show()"
   ]
  },
  {
   "cell_type": "markdown",
   "metadata": {
    "id": "ParzqKySqOQT"
   },
   "source": [
    "**8. [0.5 балла]** Что происходит с ошибкой при росте степени многочлена? Казалось бы, чем больше степень, тем более сложным будет многочлен и тем лучше он будет приближать нашу функцию. Подтверждают ли это ваши наблюдения? Как вам кажется, чем объясняется поведение ошибки на тестовых данных при $k = 10$? Как, по вашему мнению, в машинном обучении называется наблюдаемый вами эффект?"
   ]
  },
  {
   "cell_type": "markdown",
   "metadata": {
    "id": "jkyipwBZqOQT"
   },
   "source": [
    "**При росте степени многочлена ошибка снижается для данных из обучающей выборки. Однако наблюдения показывают, что для данных из тестовой выборки при росте степени многочлена ошибка сначала снижается, но потом начинает расти. Это объясняется тем, что построенная модель хорошо объясняет примеры из обучающей выборки, но относительно плохо работает на примерах, не участвовавших в обучении. Этот эффект называется эффектом переобучения**"
   ]
  },
  {
   "cell_type": "markdown",
   "metadata": {
    "id": "dqDO2JvrqOQT"
   },
   "source": [
    "### Задание 2. Линейная регрессия (3.5 балла)"
   ]
  },
  {
   "cell_type": "markdown",
   "metadata": {
    "id": "q2SeG4JXqOQT"
   },
   "source": [
    "Скачайте файлы ``flats_moscow_mod.txt`` и ``flats_moscow_description.txt``. В первом из них содержатся данные о квартирах в Москве. Каждая строка содержит шесть характеристик некоторой квартиры, разделённые знаками табуляции; в первой строке записаны кодовые названия характеристик. Во втором файле приведены краткие описания признаков."
   ]
  },
  {
   "cell_type": "markdown",
   "metadata": {
    "id": "ujhqvIceqOQT"
   },
   "source": [
    "**0. [0 баллов]** Разделите выборку на обучающую и тестовую. Делать это лучше случайным образом (ведь вы не знаете, как создатели датасета упорядочили объекты); рекомендуем вам для этого функцию `sklearn.model_selection.train_test_split` с параметром `test_size=0.3`. Не забудьте зафиксировать параметр `random_state`."
   ]
  },
  {
   "cell_type": "code",
   "execution_count": 449,
   "metadata": {
    "id": "VyTvlY47qOQT"
   },
   "outputs": [],
   "source": [
    "#╰( ͡° ͜ʖ ͡° )つ──☆*:・ﾟ\n",
    "mod = np.loadtxt('flats_moscow_mod.txt', delimiter=\"\\t\", skiprows = 1)\n",
    "flats_train, flats_test = sk.model_selection.train_test_split(mod, test_size = 0.3, random_state = None)\n",
    "flats_train = flats_train.astype(float)\n",
    "flats_test = flats_test.astype(float)"
   ]
  },
  {
   "cell_type": "markdown",
   "metadata": {
    "id": "SaNTUg0AqOQT"
   },
   "source": [
    "**1. [0.5 балла]** Вашей задачей будет построить с помощью метода наименьших квадратов (линейную) зависимость между ценой квартиры и остальными доступными параметрами. С помощью известных вам формул найдите регрессионные коэффициенты. Выпишите построенную модель."
   ]
  },
  {
   "cell_type": "code",
   "execution_count": 519,
   "metadata": {
    "id": "XEljbR-wqOQT"
   },
   "outputs": [
    {
     "name": "stdout",
     "output_type": "stream",
     "text": [
      "[[  1.7816377 ]\n",
      " [  1.6440698 ]\n",
      " [  0.32732215]\n",
      " [ -3.02157159]\n",
      " [ -1.25465876]\n",
      " [-38.63129954]]\n"
     ]
    }
   ],
   "source": [
    "#╰( ͡° ͜ʖ ͡° )つ──☆*:・ﾟ\n",
    "price_train = flats_train[:,0]\n",
    "parameters_train = flats_train[:,1:]\n",
    "parameters_train = np.concatenate((parameters_train, np.ones((len(parameters_train), 1))), axis = 1)\n",
    "price_test = flats_test[:,0]\n",
    "parameters_test = flats_test[:,1:]\n",
    "parameters_test = np.concatenate((parameters_test, np.ones((len(parameters_test), 1))), axis = 1)\n",
    "flats_coefs = sla.inv(parameters_train.T @ parameters_train) @ parameters_train.T @ price_train.reshape(len(price_train), 1)\n",
    "print(flats_coefs)"
   ]
  },
  {
   "cell_type": "markdown",
   "metadata": {},
   "source": [
    "**Получили следующую модель:\n",
    "price = 1.78 * totsp + 1.64 * livesp + 0.33 * kitsp - 3.02 * dist - 1.25 * metrdist - 38.63**"
   ]
  },
  {
   "cell_type": "markdown",
   "metadata": {
    "id": "5bJZj-FnqOQU"
   },
   "source": [
    "**2. [0.25 балла]** Какой смысл имеют их знаки? Согласуются ли они с вашими представлениями о жизни?"
   ]
  },
  {
   "cell_type": "markdown",
   "metadata": {
    "id": "vktQsPdWqOQU"
   },
   "source": [
    "╰( ͡° ͜ʖ ͡° )つ──☆*:・ﾟ\n",
    "Цена квартиры находится в прямой зависимости с общей площадью, жилой площадью квартиры, площадью кухни и в обратной зависимости с расстоянием до центра и расстоянием до метро. Эта зависимость вполне логична и согласуется с представлениями о реальной жизни."
   ]
  },
  {
   "cell_type": "markdown",
   "metadata": {
    "id": "lmsbkMMzqOQU"
   },
   "source": [
    "**3. [0.25 балла]** Оцените качество приближения, вычислив среднеквадратическую ошибку на тестовой выборке."
   ]
  },
  {
   "cell_type": "code",
   "execution_count": 520,
   "metadata": {
    "id": "4W2zfjDBqOQU"
   },
   "outputs": [
    {
     "name": "stdout",
     "output_type": "stream",
     "text": [
      "990.5621606320824\n"
     ]
    }
   ],
   "source": [
    "#╰( ͡° ͜ʖ ͡° )つ──☆*:・ﾟ\n",
    "sq_error_flats = 0\n",
    "for i in range(len(price_test)):\n",
    "    flats_temp = 0\n",
    "    for j in range(6):\n",
    "        flats_temp += flats_coefs[j][0] * float(parameters_test[i][j])\n",
    "    flats_temp -= float(price_test[i])\n",
    "    flats_temp **= 2\n",
    "    sq_error_flats += flats_temp\n",
    "sq_error_flats /= len(price_test)\n",
    "print(sq_error_flats)"
   ]
  },
  {
   "cell_type": "markdown",
   "metadata": {
    "collapsed": true,
    "id": "Hlx8rdo7qOQU"
   },
   "source": [
    "### Усложнение модели"
   ]
  },
  {
   "cell_type": "markdown",
   "metadata": {
    "id": "_XYUBuuKqOQU"
   },
   "source": [
    "Конечно, никто не гарантирует, что объясняемая переменная (цена квартиры) зависит от остальных характеристик именно линейно. Зависимость может быть, например, квадратичной или логарифмической; больше того, могут быть важны не только отдельные признаки, но и их комбинации. Это можно учитывать, добавляя в качестве дополнительных признаков разные функции от уже имеющихся характеристик: их квадраты, логарифмы, попарные произведения."
   ]
  },
  {
   "cell_type": "markdown",
   "metadata": {
    "id": "Al0tSMRzqOQU"
   },
   "source": [
    "В этом задании вам нужно постараться улучшить качество модели, добавляя дополнительные признаки, являющиеся функциями от уже имеющихся. Но будьте осторожны: чрезмерное усложнение модели будет приводить к переобучению."
   ]
  },
  {
   "cell_type": "markdown",
   "metadata": {
    "id": "xcMvA2eCqOQV"
   },
   "source": [
    "**4. [0.25 балла]** Опишите признаки, которые вы решили добавить. Объясните, чем был мотивирован выбор именно этих признаков."
   ]
  },
  {
   "cell_type": "markdown",
   "metadata": {
    "id": "sg80itXGqOQV"
   },
   "source": [
    "╰( ͡° ͜ʖ ͡° )つ──☆*:・ﾟ\n",
    "Расстояние до метро в минутах в степени 2 - так как при выборе квартиры этот признак для многих является важнейшим\n",
    "Расстояние до центра в минутах в степени 1.5 - так как при выборе квартиры этот признак для многих является важным, но менее важным чем расстояние до метро"
   ]
  },
  {
   "cell_type": "markdown",
   "metadata": {
    "id": "GzWK2iAAqOQV"
   },
   "source": [
    "**5. [2 балла]** Постройте с помощью метода наименьших квадратов (линейную) зависимость между ценой квартиры и новыми признаками. С помощью известных вам формул найдите регрессионные коэффициенты. Выпишите построенную модель."
   ]
  },
  {
   "cell_type": "code",
   "execution_count": 522,
   "metadata": {
    "id": "gBTFofg6qOQV"
   },
   "outputs": [
    {
     "name": "stdout",
     "output_type": "stream",
     "text": [
      "[[  1.78377515]\n",
      " [  1.63633857]\n",
      " [  0.31346565]\n",
      " [ -5.7109259 ]\n",
      " [ -2.53957851]\n",
      " [-25.87754814]\n",
      " [  0.07226992]\n",
      " [  0.57407658]]\n"
     ]
    }
   ],
   "source": [
    "#╰( ͡° ͜ʖ ͡° )つ──☆*:・ﾟ\n",
    "squared_metrdist_train = np.ones((len(parameters_train), 1))\n",
    "squared_metrdist_test = np.ones((len(parameters_test), 1))\n",
    "pow_dist_train = np.ones((len(parameters_train), 1))\n",
    "pow_dist_test = np.ones((len(parameters_test), 1))\n",
    "for i in range(len(parameters_train)):\n",
    "    squared_metrdist_train[i][0] *= float(parameters_train[i][4]) ** 2\n",
    "for i in range(len(parameters_test)):\n",
    "    squared_metrdist_test[i][0] *= float(parameters_test[i][4]) ** 2\n",
    "for i in range(len(parameters_train)):\n",
    "    pow_dist_train[i][0] *= float(parameters_train[i][3]) ** 1.5\n",
    "for i in range(len(parameters_test)):\n",
    "    pow_dist_test[i][0] *= float(parameters_test[i][3]) ** 1.5\n",
    "parameters_train = np.concatenate((parameters_train, squared_metrdist_train), axis = 1)\n",
    "parameters_test = np.concatenate((parameters_test, squared_metrdist_test), axis = 1)\n",
    "parameters_train = np.concatenate((parameters_train, pow_dist_train), axis = 1)\n",
    "parameters_test = np.concatenate((parameters_test, pow_dist_test), axis = 1)\n",
    "new_flats_coefs = sla.inv(parameters_train.T @ parameters_train) @ parameters_train.T @ price_train.reshape(len(price_train), 1)\n",
    "print(new_flats_coefs)"
   ]
  },
  {
   "cell_type": "markdown",
   "metadata": {
    "id": "YZmgNGJ6qOQV"
   },
   "source": [
    "**6. [0.25 балла]** Оцените качество приближения, вычислив среднеквадратическую ошибку на тестовой выборке."
   ]
  },
  {
   "cell_type": "code",
   "execution_count": 523,
   "metadata": {
    "id": "0V6MvEGTqOQV"
   },
   "outputs": [
    {
     "name": "stdout",
     "output_type": "stream",
     "text": [
      "981.3288087816176\n"
     ]
    }
   ],
   "source": [
    "#╰( ͡° ͜ʖ ͡° )つ──☆*:・ﾟ\n",
    "new_sq_error_flats = 0\n",
    "for i in range(len(price_test)):\n",
    "    flats_temp = 0\n",
    "    for j in range(8):\n",
    "        flats_temp += new_flats_coefs[j][0] * float(parameters_test[i][j])\n",
    "    flats_temp -= float(price_test[i])\n",
    "    flats_temp **= 2\n",
    "    new_sq_error_flats += flats_temp\n",
    "new_sq_error_flats /= len(price_test)\n",
    "print(new_sq_error_flats)"
   ]
  },
  {
   "cell_type": "markdown",
   "metadata": {
    "id": "HLfo4lHxqOQV"
   },
   "source": [
    "### Задание 3. Регуляризация (3.5 балла)"
   ]
  },
  {
   "cell_type": "markdown",
   "metadata": {
    "id": "FYxo3T5qqOQV"
   },
   "source": [
    "Вспомним, что задача линейной регрессии формулируется как задача нахождения проекции вектора значений объясняемой переменной $y$ на линейную оболочку $\\langle x_1,\\ldots,x_k\\rangle$ векторов значений регрессоров. Если векторы $x_1,\\ldots,x_k$ линейно зависимы, то матрица $X^TX$ вырожденна и задача не будет решаться с помощью приведённой выше формулы. В жизни, по счастью, различные признаки редко бывают *в точности* линейно зависимы, однако во многих ситуациях они скоррелированы и становятся \"почти\" линейно зависимыми. Таковы, к примеру, зарплата человека, его уровень образования, цена машины и суммарная площадь недвижимости, которой он владеет. В этом случае матрица $X^TX$ будет близка к вырожденной, и это приводит к численной неустойчивости и плохому качеству решений; как следствие, будет иметь место переобучение. Один из симптомов этой проблемы — необычно большие по модулю компоненты вектора $a$.\n",
    "\n",
    "Есть много способов борьбы с этим злом. Один из них — регуляризация. Сейчас мы рассмотрим одну из её разновидностей — **L2-регуляризацию**. Идея в том, чтобы подправить матрицу $X^TX$, сделав её \"получше\". Например, это можно сделать, заменив её на $(X^TX + \\lambda E)$, где $\\lambda > 0$ — некоторый скаляр. Пожертвовав точностью на обучающей выборке, мы тем не менее получаем численно более стабильное псевдорешение $a = (X^TX + \\lambda E)^{-1}X^Ty$ и снижаем эффект переобучения. *Гиперпараметр* $\\lambda$ нужно подбирать, и каких-то универсальных способов это делать нет, но зачастую можно его подобрать таким, чтобы ошибка на тестовой выборке падала.\n",
    "\n",
    "Однако есть некоторые правила, которых стоит придерживаться при подборе коэффициента регуляризации. Обычно в такой ситуации всю выборку делят на три части: обучающую, *валидационную* и тестовую. Сначала по валидационной подбирают значение гиперпараметра, потом по обучающей строят модель, а по тестовой оценивают её итоговое качество. Кроме того, подбирать $\\lambda$ нужно по логарифметической сетке, чтобы узнать оптимальный порядок величины."
   ]
  },
  {
   "cell_type": "markdown",
   "metadata": {
    "id": "drc2I8QkqOQW"
   },
   "source": [
    "**1. [0.25 балла]** Почему не стоит подбирать коэффициент регуляризации по обучающей выборке? По тестовой выборке?"
   ]
  },
  {
   "cell_type": "markdown",
   "metadata": {
    "id": "dj18QOSMqOQW"
   },
   "source": [
    "**Так как может возникнуть переобучение**"
   ]
  },
  {
   "cell_type": "markdown",
   "metadata": {
    "id": "fsVCD8uqqOQW"
   },
   "source": [
    "**2. [0 баллов]** Теперь давайте вспомним первую задачу. Если вы её сделали, то помните, что ошибка аппроксимации многочленом шестой степени довольно высокая. Попытаемся использовать регуляризацию при построении модели. Поделите обучающую выборку из первой задачи на две части, одну из которых объявите обучающей, а другую — валидационной (будьте осторожны при выборе `train_size`, в этой выборке не так много данных)."
   ]
  },
  {
   "cell_type": "code",
   "execution_count": 497,
   "metadata": {
    "id": "bQw3VuFRqOQW"
   },
   "outputs": [],
   "source": [
    "#╰( ͡° ͜ʖ ͡° )つ──☆*:・ﾟ\n",
    "train, valid = sk.model_selection.train_test_split(data_train, train_size = 0.6, random_state = None)\n",
    "X_new_train = train[:,0]\n",
    "y_new_train = train[:,1]\n",
    "X_valid = valid[:,0]\n",
    "y_valid = valid[:,1]"
   ]
  },
  {
   "cell_type": "markdown",
   "metadata": {
    "id": "xymHWtPDqOQW"
   },
   "source": [
    "**3. [0.75 балла]** Убедитесь, что, используя регуляризацию с хорошо подобранным коэффициентом $\\lambda$, ошибку на тестовой выборке можно сделать не больше, чем для многочлена оптимальной степени в модели без регуляризации."
   ]
  },
  {
   "cell_type": "markdown",
   "metadata": {},
   "source": [
    "**Ошибка в модели без регуляризации:**"
   ]
  },
  {
   "cell_type": "code",
   "execution_count": 581,
   "metadata": {
    "id": "Bl8KmMIUqOQW"
   },
   "outputs": [
    {
     "name": "stdout",
     "output_type": "stream",
     "text": [
      "0.35534645715184476\n"
     ]
    }
   ],
   "source": [
    "#╰( ͡° ͜ʖ ͡° )つ──☆*:・ﾟ\n",
    "i = 3\n",
    "y = y_train.reshape(len(y_train), 1)\n",
    "y1 = y_test.reshape(len(y_test), 1)\n",
    "V_i = np.vander(X_train, i + 1, increasing = True)\n",
    "coefs_i = sla.inv(V_i.T @ V_i) @ V_i.T @ y\n",
    "sq_error = 0\n",
    "for x in range(len(X_test)):\n",
    "    sq_error_temp = 0\n",
    "    for k in range (len(coefs_i)):\n",
    "        sq_error_temp += X_test[x]**k * coefs_i[k][0]\n",
    "    sq_error_temp-= y1[x][0]\n",
    "    sq_error_temp **= 2\n",
    "    sq_error += sq_error_temp\n",
    "sq_error /= len(X_test)\n",
    "print(sq_error)"
   ]
  },
  {
   "cell_type": "markdown",
   "metadata": {},
   "source": [
    "**Ошибка в модели с регуляризацией:**"
   ]
  },
  {
   "cell_type": "code",
   "execution_count": 582,
   "metadata": {},
   "outputs": [
    {
     "name": "stdout",
     "output_type": "stream",
     "text": [
      "0.22782086746918168\n",
      "0.897\n"
     ]
    }
   ],
   "source": [
    "mini = sq_error\n",
    "optimal_lambda = 0\n",
    "for l in range(0, 1001):\n",
    "    lambda_ = l / 1000\n",
    "    i = 3\n",
    "    y = y_new_train.reshape(len(y_new_train), 1)\n",
    "    y1 = y_valid.reshape(len(y_valid), 1)\n",
    "    V_i = np.vander(X_new_train, i + 1, increasing = True)\n",
    "    coefs_i = sla.inv(V_i.T @ V_i + lambda_ * np.eye(len(V_i[0]))) @ V_i.T @ y\n",
    "    sq_error_valid = 0\n",
    "    for x in range(len(X_valid)):\n",
    "        sq_error_temp_valid = 0\n",
    "        for k in range (len(coefs_i)):\n",
    "            sq_error_temp_valid += X_valid[x]**k * coefs_i[k][0]\n",
    "        sq_error_temp_valid -= y1[x][0]\n",
    "        sq_error_temp_valid **= 2\n",
    "        sq_error_valid += sq_error_temp_valid\n",
    "    sq_error_valid /= len(X_valid)\n",
    "    if mini > sq_error_valid:\n",
    "        mini = sq_error_valid \n",
    "        optimal_lambda = lambda_\n",
    "print(sq_error_valid)\n",
    "print(optimal_lambda)"
   ]
  },
  {
   "cell_type": "markdown",
   "metadata": {},
   "source": [
    "**Как показывают наблюдения, ошибка в модели с регуляризацией $\\lambda = 0.897$ меньше ошибки в модели без регуляризации**"
   ]
  },
  {
   "cell_type": "markdown",
   "metadata": {
    "id": "oURPN62hqOQW"
   },
   "source": [
    "**4. [0.25 балла]** Для этого $\\lambda$ сравните $\\det(X^TX)$ и $\\det(X^TX + \\lambda E)$. Теоретически объясните полученный результат, доказав, что $\\det(X^TX+\\lambda E) > 0$ при $\\lambda>0$."
   ]
  },
  {
   "cell_type": "code",
   "execution_count": 583,
   "metadata": {},
   "outputs": [
    {
     "name": "stdout",
     "output_type": "stream",
     "text": [
      "0.02216571567309225\n",
      "50.2394192162019\n"
     ]
    }
   ],
   "source": [
    "print(sla.det(V_i.T @ V_i))\n",
    "print(sla.det(V_i.T @ V_i + optimal_lambda * np.eye(len(V_i[0]))))"
   ]
  },
  {
   "cell_type": "markdown",
   "metadata": {
    "id": "N70vmy1KqOQW"
   },
   "source": [
    "**Как видно,$$\\det{(X^T X)} < \\det{(X^T X + \\lambda E)}$$**"
   ]
  },
  {
   "cell_type": "markdown",
   "metadata": {
    "id": "rl0oq4uvqOQX"
   },
   "source": [
    "**5. [0.25 балла]** Нарисуйте на одном чертеже графики многочленов шестой степени, приближающих неизвестную функцию, для модели с регуляризацией и без."
   ]
  },
  {
   "cell_type": "code",
   "execution_count": 585,
   "metadata": {
    "id": "fBvCVQYnqOQX"
   },
   "outputs": [
    {
     "data": {
      "image/png": "[encoded data removed]",
      "text/plain": [
       "<Figure size 864x576 with 1 Axes>"
      ]
     },
     "metadata": {
      "needs_background": "light"
     },
     "output_type": "display_data"
    }
   ],
   "source": [
    "#╰( ͡° ͜ʖ ͡° )つ──☆*:・ﾟ\n",
    "plt.figure(figsize=(12, 8))\n",
    "plt.axis([-0.5, 1.5, 3, 8])\n",
    "i = 6\n",
    "V_i_new_train = np.vander(X_new_train, i + 1, increasing = True)\n",
    "coefs_i_new_train = sla.inv(V_i_new_train.T @ V_i_new_train) @ V_i_new_train.T @ y\n",
    "reg_coefs_i_new_train = sla.inv(V_i_new_train.T @ V_i_new_train + lambda_ * np.eye(len(V_i_new_train[0]))) @ V_i_new_train.T @ y\n",
    "plt.plot(np.linspace(min(X_new_train), max(X_new_train)), np.vander(np.linspace(min(X_new_train), max(X_new_train)), i + 1, increasing = True) @ coefs_i_new_train, label = 'without regularization')\n",
    "plt.plot(np.linspace(min(X_new_train), max(X_new_train)), np.vander(np.linspace(min(X_new_train), max(X_new_train)), i + 1, increasing = True) @ reg_coefs_i_new_train, label = 'with regularization')\n",
    "plt.title('Polynoms with and without regularization')\n",
    "plt.xlabel('x')\n",
    "plt.ylabel('y')\n",
    "plt.legend()\n",
    "plt.show()"
   ]
  },
  {
   "cell_type": "markdown",
   "metadata": {
    "id": "Ue7wuRSmqOQX"
   },
   "source": [
    "**6. [0.25 балла]** Чем первый из них выгодно отличается от второго?"
   ]
  },
  {
   "cell_type": "markdown",
   "metadata": {
    "id": "WkpFHQRjqOQX"
   },
   "source": [
    "**График для модели с регуляризацией более плавный, на графике без регуляризации присутствуют колебания**"
   ]
  },
  {
   "cell_type": "markdown",
   "metadata": {
    "id": "3iMIX5tZqOQX"
   },
   "source": [
    "**7. [0.75 балла]** Пусть заданы $X\\in \\text{Mat}_{n \\times k}(\\mathbb{R})$ ($k \\leqslant n$), $y \\in \\mathbb{R}^n$, $\\lambda \\geqslant 0$, а также известно, что $\\text{rk}~X = k$. Решите теоретически следующую задачу оптимизации:\n",
    "$$|Xa - y|^2 + \\lambda|a|^2\\rightarrow\\min\\limits_{a \\in \\mathbb{R}^k}.$$\n",
    "(То есть найдите все векторы $a \\in \\mathbb{R}^k$, для которых выражение слева принимает наименьшее возможное значение.) В частности, докажите существование решений и укажите их количество в зависимости от входных данных."
   ]
  },
  {
   "cell_type": "markdown",
   "metadata": {
    "id": "kn3zeYm8qOQX"
   },
   "source": [
    "**Продифференцируем по $a$:**\n",
    "$$Err=|Xa-y|^2+\\lambda |a|^2 = |(Xa-y)^T(Xa-y)|+\\lambda|a|^2$$\n",
    "$$\\frac{dErr}{da} = -2X^Ty + 2X^TXa + 2\\lambda a=0$$ \n",
    "$\\frac{d^2 Err}{da}>0 \\implies$ **- это точка минимума**\n",
    "\n",
    "**Получаем, что $a=(X^T X + \\lambda E)^{-1}X^Ty$**"
   ]
  },
  {
   "cell_type": "markdown",
   "metadata": {
    "id": "qyty-nT4qOQX"
   },
   "source": [
    "Интуитивно это можно понимать так: мы ищем компромисс между минимизацией длины разности $|Xa - y|$ (то есть точностью решения задачи регрессии) и тем, чтобы компоненты вектора $a$ не становились слишком большими по модулю."
   ]
  },
  {
   "cell_type": "markdown",
   "metadata": {
    "id": "hYVu62REqOQY"
   },
   "source": [
    "**8. [0.25 балла]** Попробуйте объяснить, почему регуляризовать (штрафовать за слишком большую абсолютную величину) коэффициент при константном признаке (который состоит из одних единиц) — плохая идея."
   ]
  },
  {
   "cell_type": "markdown",
   "metadata": {
    "id": "9huVuXRwqOQY"
   },
   "source": [
    "**Регуляризация коэффициента при константном признаке может быть плохой идеей, потому что это может привести к смещению модели**"
   ]
  },
  {
   "cell_type": "markdown",
   "metadata": {
    "id": "U_fJfTQmqOQY"
   },
   "source": [
    "**9. [0.5 балла]** Пусть теперь $\\text{rk}~X < k$. Всегда ли в этом случае существует решение? Если существует, то является ли оно единственным? Ответ обоснуйте."
   ]
  },
  {
   "cell_type": "markdown",
   "metadata": {
    "id": "FXHRvj3kqOQY"
   },
   "source": [
    "**Решение существует не всегда, так как матрица $X^T X +\\lambda E$ может оказаться невырожденной. Если же оно существует, то единственным не является. Докажем это: так как $rk X < k$, то есть хотя бы два ЛНЗ признака - $m_i,~m_j : m_i=\\alpha m_j$ для какого-то $\\alpha \\in \\mathbb{R}$, тогда в нашей СЛУ бесконечное множество решений, так как для любого решения $a$ вектор $a+(0^1,..., \\frac{1}{\\alpha}^i,....-1^j, 0^k)$ также является решением**"
   ]
  },
  {
   "cell_type": "markdown",
   "metadata": {
    "id": "StfBsh05qOQY"
   },
   "source": [
    "**10. [0.25 балла]** Покажите теоретически, что если решений бесконечно много, то среди них обязательно найдутся решения со сколь угодно большими по модулю компонентами вектора $a$. Почему большие веса в линейной модели — плохо?"
   ]
  },
  {
   "cell_type": "markdown",
   "metadata": {
    "id": "U46zoG88qOQY"
   },
   "source": [
    "**Мы знаем, что для любого решения $a$ вектор $a+(0^1,..., \\frac{1}{\\alpha}^i,....-1^j, 0^k)$ также является решением. Тогда $a+(0^1,..., \\frac{1}{\\alpha}^c,....-c^j, 0^k)$ - тоже решение при любом $c \\implies$ это верно для сколь угодно большого $c \\implies$ компоненты могут быть сколь угодно большими**"
   ]
  },
  {
   "cell_type": "markdown",
   "metadata": {
    "id": "C5AyMk6rqOQZ"
   },
   "source": [
    "### Задание 4. Онлайн-обучение линейной регрессии (3 балла)"
   ]
  },
  {
   "cell_type": "markdown",
   "metadata": {
    "id": "xI-JbvXzqOQZ"
   },
   "source": [
    "Раньше мы работали в ситуации, когда объекты $x_i$ и значения $y_i$ даны с самого начала и всегда доступны. Допустим теперь, что пары $(x_i, y_i)$ поступают к нам по одной и мы не можем себе позволить хранить их все в памяти (это может быть актуально, например, если вы пытаетесь обучить модель на устройстве со сравнительно небольшим количеством оперативной памяти: скажем, на мобильном телефоне или на бортовом компьютере спутника связи). В этом случае нам нужно уметь решать следующую задачу:\n",
    "\n",
    "**Известно:** решение задачи регрессии для датасета $(x_1, y_1),\\ldots,(x_t,y_t)$;\n",
    "\n",
    "**На вход поступает:** новая пара $(x_{t+1}, y_{t+1})$;\n",
    "\n",
    "**Требуется:** быстро (за время, не зависящее от $t$) отыскать решение задачи регрессии для расширенного датасета $(x_1, y_1),\\ldots,(x_t,y_t),(x_{t+1}, y_{t+1})$."
   ]
  },
  {
   "cell_type": "markdown",
   "metadata": {
    "id": "trXdoqPfqOQZ"
   },
   "source": [
    "Обозначим $X_{(t)} = (x_1\\ldots x_t)^T$ и $y_{(t)} = (y_1,\\ldots,y_t)^T$. Тогда, как мы хорошо помним, решение задачи регрессии для датасета $(x_1, y_1),\\ldots,(x_t,y_t)$ имеет вид $\\hat{a}_{(t)} = \\left(X^T_{(t)}X_{(t)}\\right)^{-1}X^T_{(t)}y_{(t)}$. Размеры матриц $X^T_{(t)}X_{(t)}$ и $X^T_{(t)}y_{(t)}$ не зависят от $t$, поэтому их мы, пожалуй, можем себе позволить хранить в памяти."
   ]
  },
  {
   "cell_type": "markdown",
   "metadata": {
    "id": "dVMx4fCyqOQZ"
   },
   "source": [
    "**1. [1 балл]** И вот ваше первое задание в этом разделе: придумайте алгоритм, принимающий на вход матрицы $X^T_{(t)}X_{(t)}$ и $X^T_{(t)}y_{(t)}$, а также пару $(x_{t+1}, y_{t+1})$, и вычисляющий матрицы $X^T_{(t+1)}X_{(t+1)}$ и $X^T_{(t+1)}y_{(t+1)}$. Сложность вашего алгоритма не должна зависеть от $t$. Опишите ваш алгоритм теоретически и обоснуйте его сложность."
   ]
  },
  {
   "cell_type": "markdown",
   "metadata": {
    "id": "DO3cSnAQqOQZ"
   },
   "source": [
    "**Заметим, что**\n",
    "$$X^T_{(t+1)}X_{(t+1)}=X^T_{(t)}X_{(t)}+M_{k+1}$$\n",
    "\n",
    "**Где $M_{k+1}$ - матрица $k+1$ на $k+1$ с элементами $m_{ii}=x_{t+1}^2,~m_{ij}=x_{t+1,i}x_{t+1,j} ~i\\neq j$**\n",
    "\n",
    "$$X^T_{(t+1)}y_{(t+1)}=X^T_{(t)}y_{(t)}+L_{k+1}$$\n",
    "\n",
    "**Где $L_{k+1}$ - матрица $k+1$ на $1$с элементами $l_{i1}=x_{t+1,i}y_i$**\n",
    "\n",
    "**Тогда сложность алгоритма решения задачи регресии по таким формулам равна $O(k+1)^2+O(k)$, что не зависит от $t$**"
   ]
  },
  {
   "cell_type": "markdown",
   "metadata": {
    "id": "roPL0vwzqOQZ"
   },
   "source": [
    "**2. [2 балла]** Теперь настало время написать немного кода и порисовать красивые картинки. Вам нужно будет реализовать симуляцию онлайн-обучения регрессии для задачи приближения функции (в данном случае $f_{true}(x) = 2x\\sin(5x) + x^2 - 1$; все значения искажены небольшим нормальным шумом) многочленом степени не выше 5."
   ]
  },
  {
   "cell_type": "code",
   "execution_count": 577,
   "metadata": {
    "id": "ehAVEhm6qOQa"
   },
   "outputs": [
    {
     "data": {
      "image/png": "[encoded data removed]",
      "text/plain": [
       "<Figure size 432x288 with 1 Axes>"
      ]
     },
     "metadata": {
      "needs_background": "light"
     },
     "output_type": "display_data"
    }
   ],
   "source": [
    "from IPython.display import clear_output\n",
    "\n",
    "f_true = lambda x: 2*x*np.sin(5*x) + x**2 - 1 # this is the true function\n",
    "\n",
    "# We need this to make the plot of f_true:\n",
    "x_grid = np.linspace(-2,5,100) # 100 linearly spaced numbers\n",
    "x_grid_enl = np.hstack((x_grid.reshape((100,1))**j for j in range(6)))\n",
    "y_grid = f_true(x_grid)\n",
    "\n",
    "x_grid_start = x_grid.copy()\n",
    "y_grid_start = y_grid.copy()\n",
    "X = np.array(x_grid**(0)).reshape(len(x_grid),1)\n",
    "for i in range(1, 6):\n",
    "    temp = (x_grid**(i)).reshape(len(x_grid),1)\n",
    "    X = np.concatenate((temp,X), axis=1)\n",
    "    \n",
    "for i in range(200):\n",
    "\n",
    "    x_new = np.random.uniform(-2, 5)\n",
    "    y_new = f_true(x_new) + 2*np.random.randn()\n",
    "    \n",
    "    #╰( ͡° ͜ʖ ͡° )つ──☆*:・ﾟ\n",
    "    pows = np.array([x_new ** i for i in range(5,-1,-1)])\n",
    "    x_app = pows.reshape(1,6)\n",
    "    X = np.concatenate((X,x_app), axis=0)\n",
    "    x_grid = np.append(x_grid,x_new)\n",
    "    y_grid = np.append(y_grid,y_new)\n",
    "    \n",
    "    # the rest of the code is just bells and whistles\n",
    "    if (i+1)%5==0:\n",
    "        clear_output(True)\n",
    "        plt.plot(x_grid_start,y_grid_start, color='blue', label='true f')\n",
    "        plt.scatter(x_new, y_new, color='red')\n",
    "        a = sla.inv(X.T @ X) @ (X.T) @ y_grid\n",
    "        y_pred = X @ a\n",
    "        \n",
    "        plt.scatter(x_grid, y_pred, color='orange', linewidth=5, label='predicted f')\n",
    "        \n",
    "        plt.legend(loc='upper left')\n",
    "        plt.show()"
   ]
  },
  {
   "cell_type": "markdown",
   "metadata": {
    "id": "GFW5dq7TqOQa"
   },
   "source": [
    "### Добавление. QR-разложение"
   ]
  },
  {
   "cell_type": "markdown",
   "metadata": {
    "id": "0YTcuQZqqOQa"
   },
   "source": [
    "**QR-разложением** матрицы $A$ (не обязательно квадратной) мы будем называть её представление в виде $A = QR$, где $Q$ — матрица с ортонормированными столбцами, а $R$ — верхнетреугольная матрица.\n",
    "\n",
    "Смысл QR-разложения следующий. Пусть $a_1,\\ldots,a_m$ — столбцы матрицы $A$, $q_1,\\ldots,q_t$ — столбцы матрицы $Q$. Тогда $q_1,\\ldots,q_t$ — это ортонормированный базис в подпространстве, являющемся линейной оболочкой векторов $a_1,\\ldots,a_m$, а в матрице $R$ записаны коэффициенты, с помощью которых $a_i$ выражаются через $q_1,\\ldots,q_t$.\n",
    "\n",
    "Находить QR-разложение заданной матрицы можно разными способами. Мы познакомим вас не с самым лучшим из них, но по крайней мере с наиболее простым концептуально. Заметим, что ортогональный базис линейной оболочки можно найти с помощью ортогонализации Грама-Шмидта. При этом коэффициенты из матрицы $R$ получаются в качестве побочного продукта этого процесса:\n",
    "\n",
    "```python\n",
    "for j = 1...n:\n",
    "    q_j = a_j\n",
    "    for i = 1,...,j-1:\n",
    "        r_ij = (q_i, a_j)\n",
    "        q_j = q_j - r_ij * q_i\n",
    "    r_jj = |q_j|\n",
    "    if r_jj == 0: # a_j in <a_1,...,a_j-1>\n",
    "        # What would you do in this case?..\n",
    "    q_j = q_j / r_jj\n",
    "```\n",
    "\n",
    "Для нахождения QR-разложения вы можете использовать библиотечную функцию `scipy.linalg.qr`."
   ]
  },
  {
   "cell_type": "markdown",
   "metadata": {
    "id": "Zpwq9fXVqOQa"
   },
   "source": [
    "Поскольку лабораторная про линейную регрессию, не так-то просто замять вопрос о том, какое же отношение QR-разложение имеет к задаче регрессии. Упомянем одно из возможных применений.\n",
    "\n",
    "Допустим, мы нашли QR-разложение матрицы $X$, а именно: $X = QR$. Тогда\n",
    "$$X^TX = (QR)^T(QR) = R^TQ^TQR = R^TR$$"
   ]
  },
  {
   "cell_type": "markdown",
   "metadata": {
    "id": "dAw3yCcDqOQa"
   },
   "source": [
    "Поскольку в задаче регрессии матрица $X$ обычного полного ранга (то есть её столбцы линейно независимы), матрица $R$ будет квадратной. Благодаря этому нашу обычную формулу для набора регрессионных коэффициентов $\\hat{a}$ можно переписать в следующем виде:\n",
    "\n",
    "$$\\hat{a} = (X^TX)^{-1}X^Ty = (R^TR)^{-1}(QR)^Ty = R^{-1}(R^T)^{-1}R^TQ^Ty = R^{-1}Q^Ty$$\n",
    "\n",
    "Как видите, формула стала проще. Более того, зачастую обращение матрицы $R$ может быть численно более устойчиво, чем обращение матрицы $X^TX$."
   ]
  }
 ],
 "metadata": {
  "colab": {
   "provenance": []
  },
  "kernelspec": {
   "display_name": "Python 3 (ipykernel)",
   "language": "python",
   "name": "python3"
  },
  "language_info": {
   "codemirror_mode": {
    "name": "ipython",
    "version": 3
   },
   "file_extension": ".py",
   "mimetype": "text/x-python",
   "name": "python",
   "nbconvert_exporter": "python",
   "pygments_lexer": "ipython3",
   "version": "3.9.12"
  }
 },
 "nbformat": 4,
 "nbformat_minor": 1
}
